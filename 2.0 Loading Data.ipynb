{
 "cells": [
  {
   "cell_type": "code",
   "execution_count": 2,
   "metadata": {},
   "outputs": [],
   "source": [
    "import os\n",
    "import cv2\n",
    "import numpy as np\n",
    "\n",
    "IMG_SIZE=50\n",
    "\n",
    "categories=['des1','des2','des3']\n",
    "\n",
    "dataset=[]\n",
    "data=[]\n",
    "target=[]\n",
    "\n",
    "target_dict={'des1':[1,0,0],'des2':[0,1,0],'des3':[0,0,1]}\n",
    "\n",
    "for category in categories:\n",
    "\n",
    "    path = os.path.join('images',category)\n",
    "    img_names=os.listdir(path)\n",
    "    \n",
    "    for img_name in img_names:\n",
    "        try:\n",
    "            img_path=os.path.join(path,img_name)\n",
    "            img=cv2.imread(img_path)\n",
    "        \n",
    "            img=cv2.cvtColor(img,cv2.COLOR_BGR2GRAY)\n",
    "            img=cv2.resize(img,(50,50))\n",
    "        \n",
    "            dataset.append([img,target_dict[category]])\n",
    "        \n",
    "        except Exception as e:\n",
    "            print(e)"
   ]
  },
  {
   "cell_type": "code",
   "execution_count": 3,
   "metadata": {},
   "outputs": [],
   "source": [
    "from random import shuffle\n",
    "\n",
    "shuffle(dataset)\n",
    "\n",
    "for features,label in dataset:\n",
    "    \n",
    "    data.append(features)\n",
    "    target.append(label)\n",
    "\n",
    "data=np.array(data)\n",
    "target=np.array(target)"
   ]
  },
  {
   "cell_type": "code",
   "execution_count": 4,
   "metadata": {},
   "outputs": [],
   "source": [
    "data=data.reshape(-1, IMG_SIZE, IMG_SIZE, 1)\n",
    "\n",
    "import pickle\n",
    "\n",
    "pickle.dump(data,open('data.pickle','wb'))\n",
    "pickle.dump(target,open('target.pickle','wb'))"
   ]
  },
  {
   "cell_type": "code",
   "execution_count": null,
   "metadata": {},
   "outputs": [],
   "source": []
  }
 ],
 "metadata": {
  "kernelspec": {
   "display_name": "Python 3",
   "language": "python",
   "name": "python3"
  },
  "language_info": {
   "codemirror_mode": {
    "name": "ipython",
    "version": 3
   },
   "file_extension": ".py",
   "mimetype": "text/x-python",
   "name": "python",
   "nbconvert_exporter": "python",
   "pygments_lexer": "ipython3",
   "version": "3.6.8"
  }
 },
 "nbformat": 4,
 "nbformat_minor": 2
}
