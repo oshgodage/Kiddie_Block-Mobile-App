{
 "cells": [
  {
   "cell_type": "code",
   "execution_count": 2,
   "metadata": {},
   "outputs": [],
   "source": [
    "import pickle\n",
    "\n",
    "data=pickle.load(open('data.pickle','rb'))\n",
    "target=pickle.load(open('target.pickle','rb'))"
   ]
  },
  {
   "cell_type": "code",
   "execution_count": 3,
   "metadata": {},
   "outputs": [
    {
     "name": "stdout",
     "output_type": "stream",
     "text": [
      "[0 1 0]\n"
     ]
    }
   ],
   "source": [
    "#from matplotlib import pyplot as plt\n",
    "\n",
    "#plt.imshow(data[0])\n",
    "#plt.show()\n",
    "\n",
    "print(target[0])"
   ]
  },
  {
   "cell_type": "code",
   "execution_count": 4,
   "metadata": {},
   "outputs": [
    {
     "name": "stdout",
     "output_type": "stream",
     "text": [
      "(3131, 50, 50, 1)\n"
     ]
    }
   ],
   "source": [
    "print(data.shape)\n",
    "\n",
    "data=data/255.0"
   ]
  },
  {
   "cell_type": "code",
   "execution_count": 5,
   "metadata": {},
   "outputs": [
    {
     "name": "stderr",
     "output_type": "stream",
     "text": [
      "Using TensorFlow backend.\n"
     ]
    }
   ],
   "source": [
    "from keras.models import Sequential\n",
    "from keras.layers import Dense, Dropout, Activation, Flatten\n",
    "from keras.layers import Conv2D, MaxPooling2D"
   ]
  },
  {
   "cell_type": "code",
   "execution_count": 9,
   "metadata": {},
   "outputs": [],
   "source": [
    "model = Sequential()\n",
    "\n",
    "model.add(Conv2D(256, (3, 3), input_shape=data.shape[1:]))\n",
    "model.add(Activation('relu'))\n",
    "model.add(MaxPooling2D(pool_size=(2, 2)))\n",
    "\n",
    "model.add(Conv2D(256, (3, 3)))\n",
    "model.add(Activation('relu'))\n",
    "model.add(MaxPooling2D(pool_size=(2, 2)))\n",
    "\n",
    "model.add(Flatten())  # this converts our 3D feature maps to 1D feature vectors\n",
    "\n",
    "model.add(Dense(64))\n",
    "\n",
    "model.add(Dense(3))\n",
    "model.add(Activation('sigmoid'))\n",
    "\n",
    "model.compile(loss='binary_crossentropy',\n",
    "              optimizer='adam',\n",
    "              metrics=['accuracy'])"
   ]
  },
  {
   "cell_type": "code",
   "execution_count": 10,
   "metadata": {},
   "outputs": [
    {
     "name": "stdout",
     "output_type": "stream",
     "text": [
      "WARNING:tensorflow:From c:\\users\\hp\\appdata\\local\\programs\\python\\python36\\lib\\site-packages\\tensorflow\\python\\ops\\math_ops.py:3066: to_int32 (from tensorflow.python.ops.math_ops) is deprecated and will be removed in a future version.\n",
      "Instructions for updating:\n",
      "Use tf.cast instead.\n",
      "Train on 2191 samples, validate on 940 samples\n",
      "Epoch 1/10\n",
      "2191/2191 [==============================] - 125s 57ms/step - loss: 0.4505 - acc: 0.7862 - val_loss: 0.2677 - val_acc: 0.9021\n",
      "Epoch 2/10\n",
      "2191/2191 [==============================] - 128s 58ms/step - loss: 0.1959 - acc: 0.9296 - val_loss: 0.1632 - val_acc: 0.9418\n",
      "Epoch 3/10\n",
      "2191/2191 [==============================] - 147s 67ms/step - loss: 0.1297 - acc: 0.9547 - val_loss: 0.1095 - val_acc: 0.9596\n",
      "Epoch 4/10\n",
      "2191/2191 [==============================] - 138s 63ms/step - loss: 0.0903 - acc: 0.9694 - val_loss: 0.1017 - val_acc: 0.9667\n",
      "Epoch 5/10\n",
      "2191/2191 [==============================] - 123s 56ms/step - loss: 0.0619 - acc: 0.9790 - val_loss: 0.1007 - val_acc: 0.9660\n",
      "Epoch 6/10\n",
      "2191/2191 [==============================] - 125s 57ms/step - loss: 0.0630 - acc: 0.9785 - val_loss: 0.0951 - val_acc: 0.9691\n",
      "Epoch 7/10\n",
      "2191/2191 [==============================] - 129s 59ms/step - loss: 0.0381 - acc: 0.9883 - val_loss: 0.0761 - val_acc: 0.9766\n",
      "Epoch 8/10\n",
      "2191/2191 [==============================] - 151s 69ms/step - loss: 0.0244 - acc: 0.9927 - val_loss: 0.0727 - val_acc: 0.9798\n",
      "Epoch 9/10\n",
      "2191/2191 [==============================] - 143s 65ms/step - loss: 0.0174 - acc: 0.9947 - val_loss: 0.0864 - val_acc: 0.9759\n",
      "Epoch 10/10\n",
      "2191/2191 [==============================] - 126s 57ms/step - loss: 0.0130 - acc: 0.9970 - val_loss: 0.0694 - val_acc: 0.9816\n"
     ]
    }
   ],
   "source": [
    "train_history=model.fit(data, target, epochs=10, validation_split=0.3)"
   ]
  },
  {
   "cell_type": "code",
   "execution_count": 13,
   "metadata": {},
   "outputs": [],
   "source": [
    "model.save_weights('Blocks_V2.h5')"
   ]
  },
  {
   "cell_type": "code",
   "execution_count": 14,
   "metadata": {},
   "outputs": [
    {
     "data": {
      "image/png": "[encoded data removed]",
      "text/plain": [
       "<matplotlib.figure.Figure at 0x1561706dac8>"
      ]
     },
     "metadata": {
      "needs_background": "light"
     },
     "output_type": "display_data"
    }
   ],
   "source": [
    "from matplotlib import pyplot as plt\n",
    "\n",
    "plt.plot(train_history.history['loss'])\n",
    "plt.show()"
   ]
  },
  {
   "cell_type": "code",
   "execution_count": 17,
   "metadata": {},
   "outputs": [
    {
     "data": {
      "image/png": "[encoded data removed]",
      "text/plain": [
       "<matplotlib.figure.Figure at 0x156170c27b8>"
      ]
     },
     "metadata": {
      "needs_background": "light"
     },
     "output_type": "display_data"
    }
   ],
   "source": [
    "plt.plot(train_history.history['acc'])\n",
    "plt.show()"
   ]
  },
  {
   "cell_type": "code",
   "execution_count": null,
   "metadata": {},
   "outputs": [],
   "source": []
  }
 ],
 "metadata": {
  "kernelspec": {
   "display_name": "Python 3",
   "language": "python",
   "name": "python3"
  },
  "language_info": {
   "codemirror_mode": {
    "name": "ipython",
    "version": 3
   },
   "file_extension": ".py",
   "mimetype": "text/x-python",
   "name": "python",
   "nbconvert_exporter": "python",
   "pygments_lexer": "ipython3",
   "version": "3.6.8"
  }
 },
 "nbformat": 4,
 "nbformat_minor": 2
}
